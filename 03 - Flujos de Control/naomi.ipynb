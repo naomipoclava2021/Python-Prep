{
 "cells": [
  {
   "cell_type": "markdown",
   "metadata": {},
   "source": [
    "1) Crear una variable que contenga un elemento del conjunto de números enteros y luego imprimir por pantalla si es mayor o menor a cero\n"
   ]
  },
  {
   "cell_type": "code",
   "execution_count": null,
   "metadata": {},
   "outputs": [],
   "source": [
    "n = -12\n",
    "if(n>0):\n",
    "    print(n, 'Es Mayor que Cero')\n",
    "elif(n<0):\n",
    "    print(n, 'Es Menor que Cero')\n",
    "else:\n",
    "    print(n, 'Es Igual a Cero')"
   ]
  },
  {
   "cell_type": "markdown",
   "metadata": {},
   "source": [
    "2) Crear dos variables y un condicional que informe si son del mismo tipo de dato"
   ]
  },
  {
   "cell_type": "code",
   "execution_count": null,
   "metadata": {},
   "outputs": [],
   "source": [
    "a= 43;\n",
    "b= True;\n",
    "\n",
    "if(type(a)== type(b)):\n",
    "    print(a, 'Es de clase:',type(a), ' y ', b, 'Es de clase:',type(b), 'Tienen el mismo tipo de dato');\n",
    "else:\n",
    "    print(a, 'Es de clase:',type(a), ' y ', b, 'Es de clase:',type(b), 'Los tipos de datos son diferentes');"
   ]
  },
  {
   "cell_type": "markdown",
   "metadata": {},
   "source": [
    "3) Para los valores enteros del 1 al 20, imprimir por pantalla si es par o impar"
   ]
  },
  {
   "cell_type": "code",
   "execution_count": null,
   "metadata": {},
   "outputs": [],
   "source": [
    "for i in range(1,21):\n",
    "    if(i%2==0):\n",
    "        print(str(i), 'Es Par');\n",
    "    else:\n",
    "        print(str(i), 'Es Impar')"
   ]
  },
  {
   "cell_type": "markdown",
   "metadata": {},
   "source": [
    "4) En un ciclo for mostrar para los valores entre 0 y 5 el resultado de elevarlo a la potencia igual a 3"
   ]
  },
  {
   "cell_type": "code",
   "execution_count": null,
   "metadata": {},
   "outputs": [],
   "source": [
    "for i in range(0,6):\n",
    "    print(i, 'Elevado a la potencia de 3 es: ',(i**3));"
   ]
  },
  {
   "cell_type": "markdown",
   "metadata": {},
   "source": [
    "5) Crear una variable que contenga un número entero y realizar un ciclo for la misma cantidad de ciclos"
   ]
  },
  {
   "cell_type": "code",
   "execution_count": null,
   "metadata": {},
   "outputs": [],
   "source": [
    "n = 6\n",
    "\n",
    "for i in  range(0,n):\n",
    "    pass\n",
    "print(f'el ciclo for tine {i} vueltas')"
   ]
  },
  {
   "cell_type": "markdown",
   "metadata": {},
   "source": [
    "6) Utilizar un ciclo while para realizar el factorial de un número guardado en una variable, sólo si la variable contiene un número entero mayor a 0"
   ]
  },
  {
   "cell_type": "code",
   "execution_count": 1,
   "metadata": {},
   "outputs": [
    {
     "name": "stdout",
     "output_type": "stream",
     "text": [
      "5 es un numero entero\n",
      "el factorial de 4 es :20\n",
      "el factorial de 3 es :60\n",
      "el factorial de 2 es :120\n"
     ]
    }
   ],
   "source": [
    "n = 5\n",
    "if(type(n) == int):\n",
    "    print(f'{n} es un numero entero')\n",
    "    if(n>0):\n",
    "        factorial=n\n",
    "        while(n>2):\n",
    "            n-=1\n",
    "            factorial*=n\n",
    "            print(f'el factorial de {n} es :{factorial}')\n",
    "    else:\n",
    "        print(f'{n} es menor 0')\n",
    "        \n",
    "else:\n",
    "    print(f'{n} no es un numero entero')"
   ]
  },
  {
   "cell_type": "markdown",
   "metadata": {},
   "source": [
    "7) Crear un ciclo for dentro de un ciclo while"
   ]
  },
  {
   "cell_type": "code",
   "execution_count": null,
   "metadata": {},
   "outputs": [],
   "source": [
    "n = 0\n",
    "while(n<=5):\n",
    "    for i in range(0,n):\n",
    "        n+=1\n",
    "        print(n)\n",
    "        print(i)"
   ]
  },
  {
   "cell_type": "markdown",
   "metadata": {},
   "source": [
    "8) Crear un ciclo while dentro de un ciclo for"
   ]
  },
  {
   "cell_type": "code",
   "execution_count": 11,
   "metadata": {},
   "outputs": [
    {
     "name": "stdout",
     "output_type": "stream",
     "text": [
      "0 Ciclo For\n",
      "1 Ciclo While\n",
      "0 Ciclo For\n",
      "2 Ciclo While\n",
      "1 Ciclo For\n",
      "2 Ciclo While\n",
      "0 Ciclo For\n",
      "3 Ciclo While\n",
      "1 Ciclo For\n",
      "3 Ciclo While\n",
      "2 Ciclo For\n",
      "3 Ciclo While\n",
      "0 Ciclo For\n",
      "4 Ciclo While\n",
      "1 Ciclo For\n",
      "4 Ciclo While\n",
      "2 Ciclo For\n",
      "4 Ciclo While\n",
      "3 Ciclo For\n",
      "4 Ciclo While\n",
      "0 Ciclo For\n",
      "5 Ciclo While\n",
      "1 Ciclo For\n",
      "5 Ciclo While\n",
      "2 Ciclo For\n",
      "5 Ciclo While\n",
      "3 Ciclo For\n",
      "5 Ciclo While\n",
      "4 Ciclo For\n",
      "5 Ciclo While\n"
     ]
    }
   ],
   "source": [
    "n = 0\n",
    "while(n<5):\n",
    "    n+=1\n",
    "    for i in range(0, n):\n",
    "        print(i,'Ciclo For')\n",
    "        print(n, 'Ciclo While')"
   ]
  },
  {
   "cell_type": "markdown",
   "metadata": {},
   "source": [
    "9) Imprimir los números primos existentes entre 0 y 30"
   ]
  },
  {
   "cell_type": "code",
   "execution_count": 3,
   "metadata": {},
   "outputs": [
    {
     "name": "stdout",
     "output_type": "stream",
     "text": [
      "Numeros primos son: 0\n",
      "Numeros primos son: 1\n",
      "Numeros primos son: 2\n",
      "Numeros primos son: 3\n",
      "Numeros primos son: 5\n",
      "Numeros primos son: 7\n",
      "Numeros primos son: 11\n",
      "Numeros primos son: 13\n",
      "Numeros primos son: 17\n",
      "Numeros primos son: 19\n",
      "Numeros primos son: 23\n",
      "Numeros primos son: 29\n"
     ]
    }
   ],
   "source": [
    "tope = 30\n",
    "n = 0\n",
    "primo = True\n",
    "while(n<tope):\n",
    "    for i in range(2,n):\n",
    "        if(n % i == 0):\n",
    "            primo = False;\n",
    "    if(primo):\n",
    "        print(f'Numeros primos son: {n}');\n",
    "    else:\n",
    "        primo = True;\n",
    "    n+=1"
   ]
  },
  {
   "cell_type": "markdown",
   "metadata": {},
   "source": [
    "10) ¿Se puede mejorar el proceso del punto 9? Utilizar las sentencias break y/ó continue para tal fin"
   ]
  },
  {
   "cell_type": "code",
   "execution_count": 6,
   "metadata": {},
   "outputs": [
    {
     "name": "stdout",
     "output_type": "stream",
     "text": [
      "primos usando break 0\n",
      "primos usando break 1\n",
      "primos usando break 2\n",
      "primos usando break 3\n",
      "primos usando break 5\n",
      "primos usando break 7\n",
      "primos usando break 9\n",
      "primos usando break 11\n",
      "primos usando break 13\n",
      "primos usando break 15\n",
      "primos usando break 17\n",
      "primos usando break 19\n",
      "primos usando break 21\n",
      "primos usando break 23\n",
      "primos usando break 25\n",
      "primos usando break 27\n",
      "primos usando break 29\n"
     ]
    }
   ],
   "source": [
    "tope = 30;\n",
    "n = 0;\n",
    "primo = True\n",
    "while(n<tope):\n",
    "    for i in range(2, n):\n",
    "        if(n % 2 == 0):\n",
    "            primo = False;\n",
    "            break\n",
    "    if(primo):\n",
    "        print(f'primos usando break {n}');\n",
    "    else:\n",
    "        primo=True;\n",
    "    n+=1"
   ]
  },
  {
   "cell_type": "code",
   "execution_count": 11,
   "metadata": {},
   "outputs": [
    {
     "name": "stdout",
     "output_type": "stream",
     "text": [
      "primos usando continue 0\n",
      "primos usando continue 1\n",
      "primos usando continue 2\n",
      "primos usando continue 3\n",
      "primos usando continue 5\n",
      "primos usando continue 7\n",
      "primos usando continue 11\n",
      "primos usando continue 13\n",
      "primos usando continue 17\n",
      "primos usando continue 19\n",
      "primos usando continue 23\n",
      "primos usando continue 29\n"
     ]
    }
   ],
   "source": [
    "tope= 30;\n",
    "n= 0;\n",
    "primo= True;\n",
    "while(n<tope):\n",
    "    for i in range(2,n):\n",
    "        if(n% i==0):\n",
    "            primo= False\n",
    "            continue\n",
    "    if(primo):\n",
    "        print(f'primos usando continue {n}')\n",
    "    else:\n",
    "        primo = True\n",
    "    n+=1"
   ]
  },
  {
   "cell_type": "markdown",
   "metadata": {},
   "source": [
    "11) En los puntos 9 y 10, se diseño un código que encuentra números primos y además se lo optimizó. ¿Es posible saber en qué medida se optimizó?"
   ]
  },
  {
   "cell_type": "code",
   "execution_count": null,
   "metadata": {},
   "outputs": [],
   "source": []
  },
  {
   "cell_type": "markdown",
   "metadata": {},
   "source": [
    "12) Si la cantidad de números que se evalúa es mayor a treinta, esa optimización crece?"
   ]
  },
  {
   "cell_type": "code",
   "execution_count": 8,
   "metadata": {},
   "outputs": [
    {
     "name": "stdout",
     "output_type": "stream",
     "text": [
      "0\n",
      "1\n",
      "2\n",
      "3\n",
      "5\n",
      "7\n",
      "11\n",
      "13\n",
      "17\n",
      "19\n",
      "23\n",
      "29\n",
      "31\n",
      "37\n",
      "41\n",
      "43\n",
      "47\n",
      "53\n",
      "59\n",
      "61\n",
      "67\n",
      "71\n",
      "73\n",
      "79\n",
      "83\n",
      "89\n",
      "97\n"
     ]
    }
   ],
   "source": [
    "tope = 100\n",
    "n=0\n",
    "primo = True\n",
    "while(n<tope):\n",
    "    for i in range(2,n):\n",
    "        if(n % i == 0):\n",
    "            primo= False\n",
    "            continue\n",
    "    if(primo):\n",
    "        print(n)\n",
    "    else:\n",
    "        primo = True\n",
    "    n+= 1"
   ]
  },
  {
   "cell_type": "markdown",
   "metadata": {},
   "source": [
    "13) Aplicando continue, armar un ciclo while que solo imprima los valores divisibles por 12, dentro del rango de números de 100 a 300"
   ]
  },
  {
   "cell_type": "code",
   "execution_count": null,
   "metadata": {},
   "outputs": [],
   "source": [
    "n = 99\n",
    "while(n<=300):\n",
    "    n+=1\n",
    "    if(n % 12 !=0):\n",
    "        continue\n",
    "    print(f'{str(n)} Es divisible entre 12')"
   ]
  },
  {
   "cell_type": "markdown",
   "metadata": {},
   "source": [
    "14) Utilizar la función **input()** que permite hacer ingresos por teclado, para encontrar números primos y dar la opción al usario de buscar el siguiente"
   ]
  },
  {
   "cell_type": "code",
   "execution_count": 26,
   "metadata": {},
   "outputs": [
    {
     "name": "stdout",
     "output_type": "stream",
     "text": [
      "para continuar presiona 1\n",
      "20\n"
     ]
    }
   ],
   "source": []
  },
  {
   "cell_type": "markdown",
   "metadata": {},
   "source": [
    "15) Crear un ciclo while que encuentre dentro del rango de 100 a 300 el primer número divisible por 3 y además múltiplo de 6"
   ]
  },
  {
   "cell_type": "code",
   "execution_count": 7,
   "metadata": {},
   "outputs": [
    {
     "name": "stdout",
     "output_type": "stream",
     "text": [
      "102\n"
     ]
    }
   ],
   "source": [
    "n = 100\n",
    "while(n<=300):\n",
    "    if(n% 6 == 0):\n",
    "        print(n)\n",
    "        break\n",
    "    n+=1"
   ]
  }
 ],
 "metadata": {
  "interpreter": {
   "hash": "8bb29379a4b7c85372f68a68822ffd5b5c8619bef937151052ff5e8d4150c575"
  },
  "kernelspec": {
   "display_name": "Python 3.10.2 64-bit",
   "language": "python",
   "name": "python3"
  },
  "language_info": {
   "codemirror_mode": {
    "name": "ipython",
    "version": 3
   },
   "file_extension": ".py",
   "mimetype": "text/x-python",
   "name": "python",
   "nbconvert_exporter": "python",
   "pygments_lexer": "ipython3",
   "version": "3.10.2"
  },
  "orig_nbformat": 4
 },
 "nbformat": 4,
 "nbformat_minor": 2
}
